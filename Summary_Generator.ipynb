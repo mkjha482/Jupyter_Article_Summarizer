{
 "cells": [
  {
   "cell_type": "markdown",
   "id": "243b5741",
   "metadata": {},
   "source": [
    "### Library Imports\n",
    "\n",
    "In the first cell are the commands/code to import all the necessary libraries using which the code runs and creates summary for the given article. We have imported the '**nltk**' library to use '**stopwords**' resource as it will be the repository of the most commonly used words present is the data like 'a', 'an', 'the', 'of', etc. These words don't convey little to no meanings and can be eliminated."
   ]
  },
  {
   "cell_type": "code",
   "execution_count": 17,
   "id": "d845d989",
   "metadata": {
    "scrolled": true
   },
   "outputs": [],
   "source": [
    "from nltk.corpus import stopwords\n",
    "from nltk.cluster.util import cosine_distance\n",
    "import numpy as nmp\n",
    "import networkx as netx"
   ]
  },
  {
   "cell_type": "markdown",
   "id": "aedd41c7",
   "metadata": {},
   "source": [
    "### Reading the Article\n",
    "\n",
    "In the cell below, we provide the code with the article to generate summary from. It saves the sentences in an array and then passes on the array to the generator function."
   ]
  },
  {
   "cell_type": "code",
   "execution_count": 19,
   "id": "9148ebf6",
   "metadata": {},
   "outputs": [],
   "source": [
    "def read_article():\n",
    "    Article = \"The COVID-19 pandemic has led to a dramatic loss of human life worldwide and presents an unprecedented challenge to public health, food systems and the world of work. The economic and social disruption caused by the pandemic is devastating: tens of millions of people are at risk of falling into extreme poverty, while the number of undernourished people, currently estimated at nearly 690 million, could increase by up to 132 million by the end of the year. Millions of enterprises face an existential threat. Nearly half of the world’s 3.3 billion global workforce are at risk of losing their livelihoods. Informal economy workers are particularly vulnerable because the majority lack social protection and access to quality health care and have lost access to productive assets. Without the means to earn an income during lockdowns, many are unable to feed themselves and their families. For most, no income means no food, or, at best, less food and less nutritious food. The pandemic has been affecting the entire food system and has laid bare its fragility. Border closures, trade restrictions and confinement measures have been preventing farmers from accessing markets, including for buying inputs and selling their produce, and agricultural workers from harvesting crops, thus disrupting domestic and international food supply chains and reducing access to healthy, safe and diverse diets. The pandemic has decimated jobs and placed millions of livelihoods at risk. As breadwinners lose jobs, fall ill and die, the food security and nutrition of millions of women and men are under threat, with those in low-income countries, particularly the most marginalized populations, which include small-scale farmers and indigenous peoples, being hardest hit. Millions of agricultural workers – waged and self-employed – while feeding the world, regularly face high levels of working poverty, malnutrition and poor health, and suffer from a lack of safety and labour protection as well as other types of abuse. With low and irregular incomes and a lack of social support, many of them are spurred to continue working, often in unsafe conditions, thus exposing themselves and their families to additional risks. Further, when experiencing income losses, they may resort to negative coping strategies, such as distress sale of assets, predatory loans or child labour. Migrant agricultural workers are particularly vulnerable, because they face risks in their transport, working and living conditions and struggle to access support measures put in place by governments. Guaranteeing the safety and health of all agri-food workers – from primary producers to those involved in food processing, transport and retail, including street food vendors – as well as better incomes and protection, will be critical to saving lives and protecting public health, people’s livelihoods and food security. In the COVID-19 crisis food security, public health, and employment and labour issues, in particular workers’ health and safety, converge. Adhering to workplace safety and health practices and ensuring access to decent work and the protection of labour rights in all industries will be crucial in addressing the human dimension of the crisis. Immediate and purposeful action to save lives and livelihoods should include extending social protection towards universal health coverage and income support for those most affected. These include workers in the informal economy and in poorly protected and low-paid jobs, including youth, older workers, and migrants. Particular attention must be paid to the situation of women, who are over-represented in low-paid jobs and care roles. Different forms of support are key, including cash transfers, child allowances and healthy school meals, shelter and food relief initiatives, support for employment retention and recovery, and financial relief for businesses, including micro, small and medium-sized enterprises. In designing and implementing such measures it is essential that governments work closely with employers and workers.\"\n",
    "    sentences = []\n",
    "    \n",
    "    #splitting the provided article into sentences based on the parameter \". \"\n",
    "    sentences = Article.split(\". \")\n",
    "    \n",
    "    return sentences"
   ]
  },
  {
   "cell_type": "markdown",
   "id": "c3e2fa1e",
   "metadata": {},
   "source": [
    "### Finding Similarity of the Sentences\n",
    "\n",
    "The code below is the part where we finally check the sentences one by one and compare them and check for the similarity between them. We check and return the cosine of the vector angles."
   ]
  },
  {
   "cell_type": "code",
   "execution_count": 23,
   "id": "07e64e02",
   "metadata": {},
   "outputs": [],
   "source": [
    "def sentence_similarity(wd1, wd2, stopwords = None):\n",
    "    if stopwords is None:\n",
    "        stopwords = []\n",
    "    \n",
    "    #lowercase conversion of the words\n",
    "    wd1 = [x.lower() for x in wd1]\n",
    "    wd2 = [x.lower() for x in wd2]\n",
    "    \n",
    "    #making a set to ensure there are no repetitions in the list\n",
    "    all_words = list(set(wd1 + wd2))\n",
    "    \n",
    "    #vector creation for cosine comparison\n",
    "    vector1 = [0]*(len(all_words))\n",
    "    vector2 = [0]*(len(all_words))\n",
    "    \n",
    "    for i in wd1:\n",
    "        if i in stopwords:\n",
    "            continue\n",
    "        vector1[all_words.index(i)] += 1\n",
    "    \n",
    "    for i in wd2:\n",
    "        if i in stopwords:\n",
    "            continue\n",
    "        vector2[all_words.index(i)] += 1\n",
    "    \n",
    "    #returning the value after computing the cosine of the vector angles\n",
    "    return 1 - cosine_distance(vector1, vector2)"
   ]
  },
  {
   "cell_type": "markdown",
   "id": "a4609a8d",
   "metadata": {},
   "source": [
    "### Generating the Similarity Matrix\n",
    "\n",
    "The cell below houses the code for generating the similarity matrix of the sentences in the article for decidng which sentences to keep and which sentences to remove. This is done using the '**Cosine Similarity**'. \n",
    "**Cosine Similarity** is the measure of similarity between two non-zero vectors of an inner product space that measures the cosine of the angle between them. Here we are representing the sentences in the article as a bunch of vectors, so, we can use this to find the similarity between the sentences."
   ]
  },
  {
   "cell_type": "code",
   "execution_count": 28,
   "id": "a68fc9c1",
   "metadata": {},
   "outputs": [],
   "source": [
    "def b_similarity_matrix(sentences, stop_words):\n",
    "    #creating a null/empty matrix \n",
    "    similar_matrix = nmp.zeros((len(sentences), len(sentences)))\n",
    "    \n",
    "    for ind1 in range(len(sentences)):\n",
    "        for ind2 in range(len(sentences)):\n",
    "            #if two sentences are same, no need to generate a matrix as they are already similar, so, we skip matrix generation\n",
    "            if(ind1 == ind2):\n",
    "                continue\n",
    "                \n",
    "            #generating the similarity matrix for each sentence in the article    \n",
    "            similar_matrix[ind1][ind2] = sentence_similarity(sentences[ind1], sentences[ind2], stop_words)\n",
    "\n",
    "    return similar_matrix"
   ]
  },
  {
   "cell_type": "markdown",
   "id": "09f488e0",
   "metadata": {},
   "source": [
    "### Generating Summary\n",
    "\n",
    "This is the final portion of the entire code where the summary of the given article/passage is finally generated. Each function written above is called one by one to provide enough metrics for sentence selection and reordering. Reading text, matrix generation, ranking sentences based on similarity matrix and final sorting and summary generation is being done here."
   ]
  },
  {
   "cell_type": "code",
   "execution_count": 34,
   "id": "bf1c0fee",
   "metadata": {},
   "outputs": [
    {
     "name": "stdout",
     "output_type": "stream",
     "text": [
      "G u a r a n t e e i n g   t h e   s a f e t y   a n d   h e a l t h   o f   a l l   a g r i - f o o d   w o r k e r s   –   f r o m   p r i m a r y   p r o d u c e r s   t o   t h o s e   i n v o l v e d   i n   f o o d   p r o c e s s i n g ,   t r a n s p o r t   a n d   r e t a i l ,   i n c l u d i n g   s t r e e t   f o o d   v e n d o r s   –   a s   w e l l   a s   b e t t e r   i n c o m e s   a n d   p r o t e c t i o n ,   w i l l   b e   c r i t i c a l   t o   s a v i n g   l i v e s   a n d   p r o t e c t i n g   p u b l i c   h e a l t h ,   p e o p l e ’ s   l i v e l i h o o d s   a n d   f o o d   s e c u r i t y. T h e   e c o n o m i c   a n d   s o c i a l   d i s r u p t i o n   c a u s e d   b y   t h e   p a n d e m i c   i s   d e v a s t a t i n g :   t e n s   o f   m i l l i o n s   o f   p e o p l e   a r e   a t   r i s k   o f   f a l l i n g   i n t o   e x t r e m e   p o v e r t y ,   w h i l e   t h e   n u m b e r   o f   u n d e r n o u r i s h e d   p e o p l e ,   c u r r e n t l y   e s t i m a t e d   a t   n e a r l y   6 9 0   m i l l i o n ,   c o u l d   i n c r e a s e   b y   u p   t o   1 3 2   m i l l i o n   b y   t h e   e n d   o f   t h e   y e a r. A s   b r e a d w i n n e r s   l o s e   j o b s ,   f a l l   i l l   a n d   d i e ,   t h e   f o o d   s e c u r i t y   a n d   n u t r i t i o n   o f   m i l l i o n s   o f   w o m e n   a n d   m e n   a r e   u n d e r   t h r e a t ,   w i t h   t h o s e   i n   l o w - i n c o m e   c o u n t r i e s ,   p a r t i c u l a r l y   t h e   m o s t   m a r g i n a l i z e d   p o p u l a t i o n s ,   w h i c h   i n c l u d e   s m a l l - s c a l e   f a r m e r s   a n d   i n d i g e n o u s   p e o p l e s ,   b e i n g   h a r d e s t   h i t. A d h e r i n g   t o   w o r k p l a c e   s a f e t y   a n d   h e a l t h   p r a c t i c e s   a n d   e n s u r i n g   a c c e s s   t o   d e c e n t   w o r k   a n d   t h e   p r o t e c t i o n   o f   l a b o u r   r i g h t s   i n   a l l   i n d u s t r i e s   w i l l   b e   c r u c i a l   i n   a d d r e s s i n g   t h e   h u m a n   d i m e n s i o n   o f   t h e   c r i s i s\n"
     ]
    }
   ],
   "source": [
    "def summary_generator(net = 4):\n",
    "    stop_words = stopwords.words('english')\n",
    "    summarize_article = []\n",
    "    \n",
    "    #calling function to read the article\n",
    "    sentences = read_article()\n",
    "    \n",
    "    #function call to generate similarity matrix\n",
    "    sentence_similarity_martix = b_similarity_matrix(sentences, stop_words)\n",
    "    \n",
    "    #seuential ranking based on similarity matrix\n",
    "    sentence_similarity_graph = netx.from_numpy_array(sentence_similarity_martix)\n",
    "    scores = netx.pagerank(sentence_similarity_graph)\n",
    "    \n",
    "    #rank sorting and sentence selection\n",
    "    ranked_sentence = sorted(((scores[i],s) for i,s in enumerate(sentences)), reverse=True)    \n",
    "    \n",
    "    #print(\"Indexes of top ranked_sentence order are \", ranked_sentence)\n",
    "    \n",
    "    #printing the picked sentences based on how many lines we are supposed to print as user input.\n",
    "    for i in range(net):\n",
    "      summarize_article.append(\" \".join(ranked_sentence[i][1]))\n",
    "    \n",
    "    #printing the summary\n",
    "    print(\". \".join(summarize_article))\n",
    "    \n",
    "\n",
    "summary_generator()"
   ]
  }
 ],
 "metadata": {
  "kernelspec": {
   "display_name": "Python 3 (ipykernel)",
   "language": "python",
   "name": "python3"
  },
  "language_info": {
   "codemirror_mode": {
    "name": "ipython",
    "version": 3
   },
   "file_extension": ".py",
   "mimetype": "text/x-python",
   "name": "python",
   "nbconvert_exporter": "python",
   "pygments_lexer": "ipython3",
   "version": "3.9.7"
  }
 },
 "nbformat": 4,
 "nbformat_minor": 5
}
